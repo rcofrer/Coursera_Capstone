{
  "nbformat": 4,
  "nbformat_minor": 0,
  "metadata": {
    "colab": {
      "name": "Introduction business problem.ipynb",
      "provenance": [],
      "authorship_tag": "ABX9TyPY5XXmGOFGe8MI8q54sPUs",
      "include_colab_link": true
    },
    "kernelspec": {
      "name": "python3",
      "display_name": "Python 3"
    }
  },
  "cells": [
    {
      "cell_type": "markdown",
      "metadata": {
        "id": "view-in-github",
        "colab_type": "text"
      },
      "source": [
        "<a href=\"https://colab.research.google.com/github/rcofrer/Coursera_Capstone/blob/master/Introduction_business_problem.ipynb\" target=\"_parent\"><img src=\"https://colab.research.google.com/assets/colab-badge.svg\" alt=\"Open In Colab\"/></a>"
      ]
    },
    {
      "cell_type": "markdown",
      "metadata": {
        "id": "TIrMq5vuDFq1",
        "colab_type": "text"
      },
      "source": [
        "# Big Corporation Off Shore offices placement\n",
        "\n",
        "As the COVID-19 spreads, restrictions rise and the world went from commuting everyday to work to a forced home office work style. The economy of several countries suddenly stopped and this hurt small and big companies. However, one advantage big companies have (multinationals) is that they can quickly move their work force to countries where is cheaper for them to hire workers. As an effort to make the off shores offers attractive for the locals, big corporations are trying to locate their new offices in strategic parts of town that will offer their workers proximity to venues that they conveniently could use in their way to or from the office. One popular destination for big corporation off shore activities in Europe is Poland. This analysis will be focus in the region of Lesser Poland(Malopolska), where there are many off shore offices from big companies like HBSC or UBS.\n"
      ]
    },
    {
      "cell_type": "code",
      "metadata": {
        "id": "ZtXB6xd2DXCl",
        "colab_type": "code",
        "colab": {}
      },
      "source": [
        ""
      ],
      "execution_count": 0,
      "outputs": []
    }
  ]
}