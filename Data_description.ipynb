{
  "nbformat": 4,
  "nbformat_minor": 0,
  "metadata": {
    "colab": {
      "name": "Data description.ipynb",
      "provenance": [],
      "authorship_tag": "ABX9TyN0O9lvWReIrawnpuJFoD7e",
      "include_colab_link": true
    },
    "kernelspec": {
      "name": "python3",
      "display_name": "Python 3"
    }
  },
  "cells": [
    {
      "cell_type": "markdown",
      "metadata": {
        "id": "view-in-github",
        "colab_type": "text"
      },
      "source": [
        "<a href=\"https://colab.research.google.com/github/rcofrer/Coursera_Capstone/blob/master/Data_description.ipynb\" target=\"_parent\"><img src=\"https://colab.research.google.com/assets/colab-badge.svg\" alt=\"Open In Colab\"/></a>"
      ]
    },
    {
      "cell_type": "markdown",
      "metadata": {
        "id": "zy_0_-KeDyiO",
        "colab_type": "text"
      },
      "source": [
        "# Data description \n",
        "\n",
        "In order to solve the problem stated in the introductory section, information about the Malopolska(Lesse Poland) region is needed. To this end, It is going to be used the API extension of the website **data.opendatasoft.com** to obtain detailed information about each neighborhood in the region of interest. The information obtained has entries about: name of the district, postal codes within the district, and geographical coordinates of the district. \n",
        "\n",
        "Along with the information of each neighborhood in the region, information about the nearby venues is available. Using the Foursquare API is possible to obtain the infomation about all the nearby venues to each of the neighborhood listed in Malopolska. That finally compose a data set with entries about the category, name and geographical coordinates of each venue listed."
      ]
    },
    {
      "cell_type": "code",
      "metadata": {
        "id": "VO8CookrGaVK",
        "colab_type": "code",
        "colab": {}
      },
      "source": [
        ""
      ],
      "execution_count": 0,
      "outputs": []
    }
  ]
}